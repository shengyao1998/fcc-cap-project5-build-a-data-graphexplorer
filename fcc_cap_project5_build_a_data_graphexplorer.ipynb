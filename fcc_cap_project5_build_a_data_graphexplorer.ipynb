{
  "nbformat": 4,
  "nbformat_minor": 0,
  "metadata": {
    "colab": {
      "provenance": [],
      "authorship_tag": "ABX9TyOwXm5ZLZILDHN4IEVQD8GI",
      "include_colab_link": true
    },
    "kernelspec": {
      "name": "python3",
      "display_name": "Python 3"
    },
    "language_info": {
      "name": "python"
    }
  },
  "cells": [
    {
      "cell_type": "markdown",
      "metadata": {
        "id": "view-in-github",
        "colab_type": "text"
      },
      "source": [
        "<a href=\"https://colab.research.google.com/github/shengyao1998/fcc-cap-project5-build-a-data-graphexplorer/blob/main/fcc_cap_project5_build_a_data_graphexplorer.ipynb\" target=\"_parent\"><img src=\"https://colab.research.google.com/assets/colab-badge.svg\" alt=\"Open In Colab\"/></a>"
      ]
    },
    {
      "cell_type": "code",
      "execution_count": null,
      "metadata": {
        "id": "RvMVujTaMr4t"
      },
      "outputs": [],
      "source": [
        "import pandas as pd\n",
        "import numpy as np\n",
        "import matplotlib.pyplot as plt\n",
        "\n",
        "def load_csv():\n",
        "    print(\"Select the method to load a CSV:\")\n",
        "    print(\"1. Upload from local computer\")\n",
        "    print(\"2. Input URL\")\n",
        "    print(\"3. Use a predefined URL in the code\")\n",
        "\n",
        "    choice = input(\"Enter your choice (1, 2, or 3): \")\n",
        "\n",
        "    if choice == '1':\n",
        "        file_path = input(\"Enter the path of the CSV file on your local computer: \")\n",
        "    elif choice == '2':\n",
        "        url = input(\"Enter the URL of the CSV file: \")\n",
        "        file_path = pd.read_csv(url)\n",
        "    elif choice == '3':\n",
        "        # Use a predefined URL (replace it with your actual URL)\n",
        "        url = \"https://example.com/yourfile.csv\"\n",
        "        file_path = pd.read_csv(url)\n",
        "    else:\n",
        "        print(\"Invalid choice. Please enter 1, 2, or 3.\")\n",
        "        return None\n",
        "\n",
        "    return file_path\n",
        "\n",
        "def display_info(dataframe):\n",
        "    print(\"\\nDataframe Head:\")\n",
        "    print(dataframe.head(2))\n",
        "\n",
        "    column_names = list(dataframe.columns)\n",
        "    print(\"\\nColumn Names:\")\n",
        "    print(column_names)\n",
        "\n",
        "    return column_names\n",
        "\n",
        "def choose_columns(column_names):\n",
        "    print(\"\\nChoose columns for plotting:\")\n",
        "    print(\"Available columns:\", column_names)\n",
        "\n",
        "    col1 = input(\"Enter the first column: \")\n",
        "    col2 = input(\"Enter the second column: \")\n",
        "\n",
        "    if col1 not in column_names or col2 not in column_names:\n",
        "        print(\"Invalid column names. Please choose from the available columns.\")\n",
        "        return None\n",
        "\n",
        "    return col1, col2\n",
        "\n",
        "def plot_data(dataframe, col1, col2):\n",
        "    try:\n",
        "        x_data = np.array(dataframe[col1])\n",
        "        y_data = np.array(dataframe[col2])\n",
        "\n",
        "        plt.scatter(x_data, y_data)\n",
        "        plt.title(f\"Scatter Plot of {col1} vs {col2}\")\n",
        "        plt.xlabel(col1)\n",
        "        plt.ylabel(col2)\n",
        "        plt.show()\n",
        "\n",
        "    except Exception as e:\n",
        "        print(f\"Error plotting data: {e}\")\n",
        "\n",
        "def main():\n",
        "    dataframe = load_csv()\n",
        "\n",
        "    if dataframe is not None:\n",
        "        column_names = display_info(dataframe)\n",
        "        columns = choose_columns(column_names)\n",
        "\n",
        "        if columns is not None:\n",
        "            col1, col2 = columns\n",
        "            plot_data(dataframe, col1, col2)\n",
        "\n",
        "if __name__ == \"__main__\":\n",
        "    main()"
      ]
    }
  ]
}